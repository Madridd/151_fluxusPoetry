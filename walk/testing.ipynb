{
 "metadata": {
  "language_info": {
   "codemirror_mode": {
    "name": "ipython",
    "version": 3
   },
   "file_extension": ".py",
   "mimetype": "text/x-python",
   "name": "python",
   "nbconvert_exporter": "python",
   "pygments_lexer": "ipython3",
   "version": "3.8.5-final"
  },
  "orig_nbformat": 2,
  "kernelspec": {
   "name": "Python 3.8.5 64-bit ('Art151': conda)",
   "display_name": "Python 3.8.5 64-bit ('Art151': conda)",
   "metadata": {
    "interpreter": {
     "hash": "9ac567b1058dc8f154d91164a1694298c56c8ea8bfd8503d4e26f44faadee780"
    }
   }
  }
 },
 "nbformat": 4,
 "nbformat_minor": 2,
 "cells": [
  {
   "cell_type": "code",
   "execution_count": 2,
   "metadata": {},
   "outputs": [],
   "source": [
    "from bs4 import BeautifulSoup\n",
    "import requests\n",
    "import re\n",
    "from flask import Flask"
   ]
  },
  {
   "cell_type": "code",
   "execution_count": 3,
   "metadata": {},
   "outputs": [
    {
     "output_type": "stream",
     "name": "stdout",
     "text": [
      "Rap&music\n"
     ]
    }
   ],
   "source": [
    "hiphop = \"Hip&Hop&music\"\n",
    "edm = \"EDM&music\"\n",
    "rap = \"Rap&music\"\n",
    "print (rap)"
   ]
  },
  {
   "cell_type": "code",
   "execution_count": 4,
   "metadata": {},
   "outputs": [
    {
     "output_type": "stream",
     "name": "stdout",
     "text": [
      "/industry\n"
     ]
    }
   ],
   "source": [
    "headers = {'user-agent': 'Mozilla/5.0'}\n",
    "##can change url to go to different webpage##\n",
    "page = requests.get(\"https://edm.com/\", headers=headers)\n",
    "soup = BeautifulSoup(page.content, 'html.parser')\n",
    "#print(soup.title)\n",
    "#a = soup1.find_all('title')\n",
    "#text = a.text\n",
    "#print(a)\n",
    "\n",
    "links = soup.find_all('a')\n",
    "link = links.get('href')\n",
    "print(link)\n",
    "\n",
    "############################################\n",
    "#website = requests.get(link,headers=headers)\n",
    "#soup = BeautifulSoup(page.content, 'html.parser')\n",
    "#title = soup.find_all('title')\n",
    "#print(title)"
   ]
  },
  {
   "cell_type": "code",
   "execution_count": null,
   "metadata": {},
   "outputs": [],
   "source": []
  }
 ]
}