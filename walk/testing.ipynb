{
 "metadata": {
  "language_info": {
   "codemirror_mode": {
    "name": "ipython",
    "version": 3
   },
   "file_extension": ".py",
   "mimetype": "text/x-python",
   "name": "python",
   "nbconvert_exporter": "python",
   "pygments_lexer": "ipython3",
   "version": "3.8.5-final"
  },
  "orig_nbformat": 2,
  "kernelspec": {
   "name": "Python 3.8.5 64-bit ('Art151': conda)",
   "display_name": "Python 3.8.5 64-bit ('Art151': conda)",
   "metadata": {
    "interpreter": {
     "hash": "9ac567b1058dc8f154d91164a1694298c56c8ea8bfd8503d4e26f44faadee780"
    }
   }
  }
 },
 "nbformat": 4,
 "nbformat_minor": 2,
 "cells": [
  {
   "cell_type": "code",
   "execution_count": 1,
   "metadata": {},
   "outputs": [],
   "source": [
    "from bs4 import BeautifulSoup\n",
    "import requests\n",
    "import re\n",
    "from flask import Flask"
   ]
  },
  {
   "cell_type": "code",
   "execution_count": 2,
   "metadata": {},
   "outputs": [
    {
     "output_type": "stream",
     "name": "stdout",
     "text": [
      "Rap&music\n"
     ]
    }
   ],
   "source": [
    "hiphop = \"Hip&Hop&music\"\n",
    "edm = \"EDM&music\"\n",
    "rap = \"Rap&music\"\n",
    "print (rap)"
   ]
  },
  {
   "cell_type": "code",
   "execution_count": 7,
   "metadata": {
    "tags": [
     "outputPrepend"
    ]
   },
   "outputs": [
    {
     "output_type": "stream",
     "name": "stdout",
     "text": [
      "gs where as DJs like ', ' have been openly crediting their producers in an attempt to avoid censure and for transparency.', '\\n', 'Many ghost producers sign agreements that prevent them from working for anyone else or establishing themselves as a solo artist.', ' Such non-disclosure agreements are often noted as predatory because ghost producers, especially teenage producers, do not have an understanding of the music industry.', ' London producer ', ' has alleged that DJs who hire ghost producers \"have pretended to make their own music and [left] us actual producers to struggle\".', '\\n', 'A ', ' is an independent musician who creates electronic music on their laptop or in a home studio. Unlike in traditional recording studios, bedroom producers typically use low cost, accessible software and equipment which can lead to music being created completely \"in the box,\" with no external hardware.', '\\n', 'Initially, the popularization of electronic dance music was associated with European rave and club culture and it achieved limited popular exposure in America. By the mid-to-late 1990s this began to change as the American music industry made efforts to market a range of dance genres as \"', '\".', ' At the time, a wave of electronic music bands from the UK, including ', ', ', ', ', ' and ', ', had been prematurely associated with an \"American electronica revolution\".', ' But rather than finding mainstream success, many established EDM acts were relegated to the margins of the US ', '.', ' In 1998 ', \"'s \", ' an album heavily influenced by club music trends and produced with British producer ', ', brought dance music to the attention of popular music listeners.', ' In the late 1990s, despite US media interest in dance music re-branded as ', ' American house and techno producers continued to travel abroad to establish their careers as DJs and producers.', '\\n', 'By the mid-2000s, Dutch producer ', ' was bringing worldwide popular attention to EDM after providing a soundtrack to the entry of athletes during the opening ceremony of the ', ' — an event which ', ' deemed as one of the 50 most important events in dance music.', ' In 2003, the influence of dance music on American radio resulted in ', ' creating the first-ever ', ' chart.', ' By 2005, the prominence of dance music in North American popular culture had markedly increased. According to ', ', ', \"'s performance at \", ' in 2006 was the \"tipping point\" for EDM—it introduced the duo to a new generation of \"rock kids\".', ' As noted by ', ', ', '\\'s \"', '\" helped introduce EDM sounds to ', \", as it brought together variations of electronic dance music with the singer's R&B sounds.\", ' In 2009, ', ' musician ', ' began to gain prominence in mainstream ', ' thanks to several ', ' on ', ' charts such as \"', '\" with ', ',', ' as well as his collaborations with US pop and ', ' acts such as ', ' (\"', '\") and ', ' (\"', '\").', ' The music sharing website ', ', as well as the video sharing website ', ', also helped fuel interest in electronic music. Dubstep producer ', ' popularized a harsher sound dubbed \"', '\", which had drawn comparisons to the aggression and tone of ', '.', '\\n', 'With the increasing popularity of electronic dance music, ', ' and venues realized that DJs could generate larger profits than traditional musicians; ', ' explained that \"a band plays [for] 45 minutes; DJs can play for four hours. Rock bands—there\\'s a few headliner dudes that can play 3,000–4,000-capacity venues, but DJs play the same venues, they turn the crowd over two times, people buy drinks all night long at higher prices—it\\'s a win-win.\"', ' Electronic music festivals, such as ', ' (EDC) in ', ' and ', ' in ', ' also grew in size, placing an increased emphasis on visual experiences, and DJs who had begun to attain a celebrity status.', ' Other major acts that gained prominence, including ', ' and ', ', toured major venues such as ', ' and stadiums rather than playing clubs; in December 2011, Swedish House Mafia became the first electronic music act to sell out ', \"'s \", '.', '\\n', 'In 2011, ', ' declared a \"new rave generation\" led by acts like David Guetta, ', ', and ', '.', ' In January 2013, ', ' introduced a new EDM-focused ', ' chart, tracking the top 50 electronic songs based on sales, radio airplay, club play, and online ', '.', ' According to Eventbrite, EDM fans are more likely to use social media to discover and share events or gigs. They also discovered that 78% of fans say they are more likely to attend an event if their peers do, compared to 43% of fans in general. EDM has many young and social fans.', ' By late 2011, ', ' was describing electronic dance music as the fastest-growing genre in the world.', ' Elements of electronic music also became increasingly prominent in ', '.', \" Radio and television also contributed to dance music's mainstream acceptance.\", '\\n', 'Corporate ', ' in the EDM industry began in 2012—especially in terms of live events. In June 2012, media executive ', '—founder of what is now ', '—re-launched ', ' as an EDM conglomerate, and announced his plan to invest $1 billion to acquire EDM businesses. His acquisitions included regional promoters and festivals (including ', ', which organises ', '), two nightclub operators in ', ', and ', ', an ', ' which focuses on electronic music.', ' Live Nation also acquired ', ' and ', ', and announced a \"creative partnership\" with EDC organizers ', ' in 2013 that would allow it to access its resources whilst remaining an independent company;', ' Live Nation CEO Michael Rapino described EDM as the \"[new] ', '\".', '\\n', 'US ', ' conglomerate ', ' (formerly Clear Channel Media and Entertainment) also made efforts to align itself with EDM. In January 2014 It hired noted British DJ and ', ' personality ', ' to produce programming for its \"Evolution\" ', ' brand,', ' and announced a partnership with SFX to co-produce live concerts and EDM-oriented original programming for its ', ' radio stations. iHeartMedia president John Sykes explained that he wanted his company\\'s properties to be the \"best destination [for EDM]\".', '\\n', 'Major brands have also used the EDM phenomena as a means of targeting ', ' and EDM songs and artists have increasingly been featured in television commercials and programs.', \" Avicii's manager Ash Pournouri compared these practices to the commercialization of \", ' in the early 2000s.', ' ', ' has a marketing relationship with the Ultra Music Festival, and has incorporated Dutch producers ', ' and Tiësto into its ad campaigns. ', ' has a similar relationship as beer sponsor of ', ' events.', ' In 2014, ', ' launched \"7x7Up\"—a multi-platform EDM-based campaign that includes digital content, advertising featuring producers, and branded stages at both Ultra and Electric Daisy Carnival.', ' Wireless carrier ', ' entered into an agreement with SFX to become the official wireless sponsor of its events, and partnered with ', ' to sponsor its 2015 tour.', '\\n', 'In August 2015, SFX began to experience declines in its value,', ' and a failed bid by CEO Sillerman to take the company private. The company began looking into strategic alternatives that could have resulted in the sale of the company.', ' In October 2015, ', ' declared the possibility of an EDM \"', '\", in the wake of the declines at SFX Entertainment, slowing growth in revenue, the increasing costs of organizing festivals and booking talent, as well as an oversaturation of festivals in the eastern and western United States. Insomniac CEO Pasquale Rotella felt that the industry would weather the financial uncertainty of the overall market by focusing on \"innovation\" and entering into new markets.', ' Despite forecasts that interest in popular EDM would wane, in 2015 it was estimated to be a £5.5bn industry in the US, up by 60% compared to 2012 estimates.', '\\n', 'SFX emerged from bankruptcy in December 2016 as ', ', under the leadership of Randy Phillips, a former executive of ', '.', '\\n', 'In 2020 LiveStyle entered its final phase of restoring the original owners of the companies acquired during the SFX reign or selling them. Northeast EDM promotor React Presents was sold to LiveXLive and Donnie bought his company, Disco Donnie Presents, back from LiveStyle. ', '\\n', 'Following the popularization of EDM in America a number of producers and DJs, including ', ', ', ', and ', ', raised concerns that the perceived over-commercialisation of dance music had impacted the \"art\" of DJing. Cox saw the \"press-play\" approach taken by newer EDM DJs as unrepresentative of what he called a \"DJ ethos\".', ' Writing in ', ', DJ Tim Sheridan argued that \"push-button DJs\" who use auto-sync and play pre-recorded sets of \"obvious hits\" resulted in a situation overtaken by \"the spectacle, money and the showbiz\".', '\\n', 'Some house producers openly admitted that \"commercial\" EDM needed further differentiation and creativity. Avicii, whose 2013 album ', ' featured songs incorporating elements of ', ', such as lead single \"', '\", stated that most EDM lacked \"longevity\".', ' Deadmau5 criticized the ', ' of popular EDM, and suggested that it \"all sounds the same\". During the 2014 Ultra Music Festival, Deadmau5 made critical comments about up-and-coming EDM artist ', ' and later played an edited version of Garrix\\'s \"', '\" remixed to the melody of \"', '\". Afterwards, ', ' criticized Deadmau5 on ', ' for \"sarcastically\" mixing Avicii\\'s \"', '\" with his own \"', '\".', '\\n', 'In May 2014, the ', ' comedy series ', ' parodied the stereotypes of EDM culture and push-button DJs in a ', ' entitled ', '. It featured a DJ who goes about performing everyday activities—playing a ', ', frying eggs, collecting money—who then presses a giant \"BASS\" button, which explodes the heads of concertgoers.', '\\n', \"After years of rapid growth, the American popular EDM market started to wane in 2016 when a number of artists famous for producing so-called 'big room' electro-house started to diversify stylistically. This development was directly referenced by two such DJs – David Guetta and \", ' – in a ', \"-influenced single released in April 2016 titled 'The Death of EDM'.\", '\\n', 'In May 2015, the ', \"'s Business Report estimated that the global electronic music industry had reached nearly $6.9 billion in value; the count included music sales, events revenue (including nightclubs and festivals), the sale of DJ equipment and software, and other sources of revenue. The report also identified several emerging markets for electronic dance music, including \", ', ', ', and ', ', credited primarily to investment by domestic, as well as American and European interests. A number of major festivals also began expanding into ', '.', '\\n', 'In ', ' EDM has become part of mainstream music after the 2018 breakthrough of a young artist named ', ' which incorporated EDM sound with traditional rhythms and melodies.', ' In his shows, tens of thousands of youth were packing stadiums across the country and radios started to play the emerging genre.', '\\n', ' is a market where EDM had initially made relatively few inroads; although promoters believed that the mostly instrumental music would remove a metaphorical ', ', the growth of EDM in China was hampered by the lack of a prominent rave culture in the country as in other regions, as well as the popularity of domestic ', ' over foreign artists. Former Universal Music executive Eric Zho, inspired by the US growth, made the first significant investments in electronic music in China, including the organisation of ', \"'s inaugural Storm festival in 2013, the reaching of a \", \" deal for the festival with Anheuser-Busch's Budweiser brand, a local talent search, and organising collaborations between EDM producers and Chinese singers, such as \", ' and ', '\\'s \"Lose Myself\". In the years following, a larger number of EDM events began to appear in China, and Storm itself was also preceded by a larger number of pre-parties in 2014 than its inaugural year. A new report released during the inaugural International Music Summit China in October 2015 revealed that the Chinese EDM industry was experiencing modest gains, citing the larger number of events (including new major festival brands such as Modern Sky and YinYang), a 6% increase in the sales of electronic music in the country, and the significant size of the overall market. Zho also believed that the country\\'s \"hands-on\" political climate, as well as investments by China into cultural events, helped in \"encouraging\" the growth of EDM in the country.', '\\n', 'In the 1980s, electronic dance music was often played at illegal underground rave parties held in secret locations, for example, warehouses, abandoned aircraft hangars, fields and any other large, open areas. In the 1990s and 2000s, aspects of the underground ', ' culture of the 1980s and early 1990s began to evolve into legitimate, organized EDM concerts and ', '. Major festivals often feature a large number of acts representing various EDM genres spread across multiple stages. Festivals have placed a larger emphasis on visual ', ' as part of their overall experiences, including elaborate stage designs with underlying thematics, complex lighting systems, ', ', and ', '. ', ' also evolved among attendees, which ', ' described as progressing from the 1990s \"kandi raver\" to \"[a] slick and sexified yet also kitschy-surreal image midway between ', ' and ', ', ', ' and a ', '\".', ' These events differed from underground raves by their organized nature, often taking place at major venues, and measures to ensure the health and safety of attendees.', ' ', '\\'s Rawley Bornstein described electronic music as \"the new rock and roll\",', ' as has Lollapalooza organizer Perry Ferrell.', '\\n', 'Ray Waddell of ', ' noted that festival promoters have done an excellent job at ', '.', ' Larger festivals have been shown to have positive ', ' on their host cities', ' the 2014 Ultra Music Festival brought 165,000 attendees—and over $223 million—to the ', '/', \" region's economy.\", ' The inaugural edition of ', \"—a US-based version of Belgium's \", ', brought $85.1 million to the ', ' area—as much revenue as its hosting of the ', ' (the national championship of US ', ') earlier in the year.', ' EDC Las Vegas boosted the Clark County economy by $350.3 million in 2015 alone, with over 405,000 attendees across three days (June 19–21).', ' The popularity of EDM and festivals also led some multi-genre festivals not strongly associated with electronic music, such as ', ' and ', ', to add more electronic acts to their lineup. They often play EDM-specific stages, but major acts such as ', ' and ', ' have made overall headlining appearances on the main stages of Lollapalooza and Coachella respectively—placements that are typically associated with ', ' and ', '.', '\\n', ' of ', ' felt that the commercial festival industry was an antithesis to the original principles of the rave subculture, citing \"the expensive tickets, the giant corporate sponsors, the crass ', '—shirtless muscle boys who cruise the stadiums, tiny popular girls in bikinis who ride on their shoulders – not to mention the sappy music itself.\"', ' Drug-related incidents, as well as other complaints surrounding the behaviour of their attendees, have contributed to negative perceptions and opposition to electronic music events by local authorities;', '\\n', \"After Ultra Music Festival 2014, where a crowd of gatecrashers trampled a security guard on its first day, Miami's city commissioners considered banning the festival from being held in the city, citing the trampling incident, \", ' behavior, and complaints by downtown residents of being harassed by attendees. The commissioners voted to allow Ultra to continue being held in Miami due to its positive economic effects, under the condition that its organizers address security, drug usage and lewd behavior by attendees.', ' In 2018, after continued concerns, the commissioners voted to bar the festival from being held in ', ' and downtown Miami,', \" but subsequently approved a proposal to move the event to one of Miami's \", ', ', '.', ' Following the festival, which was impacted by transportation issues (as there is only one vehicular link between Virginia Key and mainland Miami) and other problems, Ultra pulled out of the agreement, and negotiated an agreement to return to Bayfront Park.', '\\n', 'Dance music has a long association with ', ',', ' particularly with a wide range of drugs that have been categorized under the name \"', '\". Russell Smith noted that the association of drugs and music subcultures was by no means exclusive to electronic music, citing previous examples of music genres that were associated with certain drugs, such as ', ' and ', ', ', ' and ', ', and ', ' and ', '.', '\\n', ' (MDMA), also known as ecstasy, \"E\", or \"Molly\", is often considered the drug of choice within the rave culture and is also used at clubs, festivals and ', '.', ' In the rave environment, the sensory effects from the music and lighting are often highly synergistic with the drug. The psychedelic amphetamine quality of MDMA offers multiple reasons for its appeals to users in the \"rave\" setting. Some users enjoy the feeling of mass communion from the inhibition-reducing effects of the drug, while others use it as party fuel because of the drug\\'s stimulatory effects.', ' Another drug ', ' (4-MA) also known as pink ecstasy, PMA, \"Death\" or \"Dr. Death\", it is similar to MDMA but they can take up to an hour to produce effects, which can result in hyperthermia and subsequently, organ failure. People who take PMA are often mistaken for it being identified as MDMA.', '\\n', 'MDMA is occasionally known for being taken in conjunction with psychedelic drugs. The more common combinations include MDMA combined with ', ', MDMA combined with ', ', MDMA with ', ', and MDMA with the disassociative drug ', '. Many users use ', \" products while taking MDMA for its cooling sensation while experiencing the drug's effects. Examples include menthol cigarettes, \", ', ', ',', ' and ', '.\\n', 'The incidence of nonmedical ketamine has increased in the context of ', ' and other parties.', ' However, its emergence as a ', ' differs from other club drugs (e.g. ', ') due to its ', ' properties (', ', slurred speech, immobilization) at higher doses;', ' in addition, there are reports of ketamine being sold as \"ecstasy\".', ' The use of ketamine as part of a \"postclubbing experience\" has also been documented.', \" Ketamine's rise in the dance culture was rapid in \", ' by the end of the 1990s.', ' Before becoming a federally controlled substance in the United States in 1999, ketamine was available as diverted pharmaceutical preparations and as a pure powder sold in bulk quantities from domestic chemical supply companies.', ' Much of the current ketamine diverted for nonmedical use originates in China and India.', '\\n', 'A number of deaths attributed to apparent drug use have occurred at major electronic music concerts and festivals. The ', ' blacklisted ', ' after an underaged attendee died from \"complications of ischemic ', ' due to ', ' intoxication\" during ', ' 2010; as a result, the event was re-located to Las Vegas the following year.', ' Drug-related deaths during ', ' 2013 in ', ', ', ', and ', ' Asia 2014 in ', ', ', ', prompted the final day of both events to be cancelled,', ' while ', ' cancelled a planned event in Malaysia out of concern for the incident at Future Music Festival Asia and other drug-related deaths that occurred at the ', ' concerts in ', ', ', '.', '\\n', 'In September 2016, the city of ', ', ', ' banned all electronic music events, pending future legislation, after five drug-related deaths and four injuries at a ', ' event in the city in April 2016. The ban forced electronic band ', ' to cancel a planned concert in the city, despite arguing that there were dissimilarities between a festival and their concerts.', '\\n']\n"
     ]
    }
   ],
   "source": [
    "headers = {'user-agent': 'Mozilla/5.0'}\n",
    "##can change url to go to different webpage##\n",
    "page = requests.get(\"https://en.wikipedia.org/wiki/Electronic_dance_music\", headers=headers)\n",
    "soup = BeautifulSoup(page.content, 'html.parser')\n",
    "#print(soup.title)\n",
    "#a = soup1.find_all('title')\n",
    "#text = a.text\n",
    "#print(a)\n",
    "\n",
    "#h = soup.find('p').getText()\n",
    "#text = heading.text\n",
    "#link = links.get('href')\n",
    "#print(h)\n",
    "\n",
    "\n",
    "#p = soup.findAll('p')\n",
    "#print(p)\n",
    "\n",
    "\n",
    "whitelist = [\n",
    "  'p'\n",
    "]\n",
    "\n",
    "text_elements = [t for t in soup.find_all(text=True) if t.parent.name in whitelist]\n",
    "print (text_elements)\n",
    "############################################\n",
    "#website = requests.get(link,headers=headers)\n",
    "#soup = BeautifulSoup(page.content, 'html.parser')\n",
    "#title = soup.find_all('title')\n",
    "#print(title)"
   ]
  },
  {
   "cell_type": "code",
   "execution_count": null,
   "metadata": {},
   "outputs": [],
   "source": []
  }
 ]
}